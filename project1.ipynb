{
 "cells": [
  {
   "cell_type": "markdown",
   "id": "77846dd1",
   "metadata": {},
   "source": [
    "# Introduction "
   ]
  },
  {
   "cell_type": "markdown",
   "id": "4b731a15",
   "metadata": {},
   "source": [
    "Food insecurity in America is rampant, with the USDA reporting that over 13.5% of American households faced food insecurity in 2023 (Link). A rampant increase from previous years. The effects of food insecurity are devastating. Feeding America, a non-profit organization combating food insecurity in America, reports that from households facing food insecurity, 66% had to choose between food and medical care, 57% had to choose between food and housing, and 31% had to choose between food and education (Link). These effects have also been shown to be dependent on the demographic of the population. This leads us to ask the questions \n",
    "\n",
    "* Who is affected by food insecurity? \n",
    "* Why is food insecure in an area?\n",
    "* What is the correlation between food insecurity and data points? \n"
   ]
  },
  {
   "cell_type": "markdown",
   "id": "6d2902f5",
   "metadata": {},
   "source": [
    "# The Data"
   ]
  },
  {
   "cell_type": "markdown",
   "id": "6fe21272",
   "metadata": {},
   "source": [
    "I pulled the dataset \"Food Access Research Atlas\" from the USDA(U.S Department Of Agriculture). A dataset that includes 147 columns and 72530 rows. It tracts location data including census tract, state, and county. It has distance relative to low acess to food and population demographic data. "
   ]
  },
  {
   "cell_type": "markdown",
   "id": "e5aedba5",
   "metadata": {},
   "source": [
    "###### "
   ]
  },
  {
   "cell_type": "markdown",
   "id": "28ef1bb1",
   "metadata": {},
   "source": [
    "# Pre-Processing Data"
   ]
  },
  {
   "cell_type": "markdown",
   "id": "fac39629",
   "metadata": {},
   "source": [
    "##### Imports"
   ]
  },
  {
   "cell_type": "code",
   "execution_count": 2,
   "id": "9278039b",
   "metadata": {},
   "outputs": [],
   "source": [
    "import pandas as pd\n",
    "import numpy as np\n",
    "import matplotlib.pyplot as plt \n",
    "import seaborn as sns\n",
    "from qgridnext import show_grid"
   ]
  },
  {
   "cell_type": "markdown",
   "id": "457e39ae",
   "metadata": {},
   "source": [
    "##### Importing our data set and creating a dataframe"
   ]
  },
  {
   "cell_type": "code",
   "execution_count": 3,
   "id": "a07ef680",
   "metadata": {},
   "outputs": [],
   "source": [
    "uncleaned_atlas_df = pd.read_csv(\"/Users/anthonymanzo-trinidad/Documents/ITCS-3162_Project1/Food Access Research Atlas.csv\")\n",
    "variable = pd.read_csv(\"/Users/anthonymanzo-trinidad/Documents/ITCS-3162_Project1/VariableLookup.csv\")"
   ]
  },
  {
   "cell_type": "markdown",
   "id": "71c8e097",
   "metadata": {},
   "source": [
    "##### Checking for null values and data types"
   ]
  },
  {
   "cell_type": "code",
   "execution_count": 4,
   "id": "d94041ee",
   "metadata": {},
   "outputs": [
    {
     "name": "stdout",
     "output_type": "stream",
     "text": [
      "<class 'pandas.core.frame.DataFrame'>\n",
      "RangeIndex: 72531 entries, 0 to 72530\n",
      "Columns: 147 entries, CensusTract to TractSNAP\n",
      "dtypes: float64(126), int64(19), object(2)\n",
      "memory usage: 81.3+ MB\n"
     ]
    }
   ],
   "source": [
    "uncleaned_atlas_df.isnull().sum().sort_values(ascending=False)\n",
    "uncleaned_atlas_df.info()"
   ]
  },
  {
   "cell_type": "markdown",
   "id": "0c6d0309",
   "metadata": {},
   "source": [
    "The most important features from our dataset are Censu Tract, State, Tract median family income, Tract poverty rate, Low income tract. As such we will drop any rows that do not have all of these features complete. "
   ]
  },
  {
   "cell_type": "code",
   "execution_count": 11,
   "id": "56cb497b",
   "metadata": {},
   "outputs": [],
   "source": [
    "cleaned_atlas_df = uncleaned_atlas_df.dropna(subset=['CensusTract','State','County','Urban','LowIncomeTracts','MedianFamilyIncome','PovertyRate'])\n"
   ]
  },
  {
   "cell_type": "markdown",
   "id": "2338437d",
   "metadata": {},
   "source": [
    "We were able to drop around 1000 entries from our dataset. This is important because we will being using this cleaned dataset as the base for our further processed datasets to get greater insight on features that a greater amount of nulls."
   ]
  },
  {
   "cell_type": "markdown",
   "id": "f48da76e",
   "metadata": {},
   "source": [
    "After that we will focus on features that act as low-acess indicators   "
   ]
  },
  {
   "cell_type": "code",
   "execution_count": 13,
   "id": "a428ff17",
   "metadata": {},
   "outputs": [
    {
     "name": "stdout",
     "output_type": "stream",
     "text": [
      "<class 'pandas.core.frame.DataFrame'>\n",
      "Index: 71783 entries, 0 to 72530\n",
      "Columns: 147 entries, CensusTract to TractSNAP\n",
      "dtypes: float64(126), int64(19), object(2)\n",
      "memory usage: 81.1+ MB\n"
     ]
    }
   ],
   "source": [
    "demo_atlas_df = cleaned_atlas_df.dropna(subset=[\"LILATracts_1And10\", \"LILATracts_halfAnd10\", \"LILATracts_1And20\", \"LILATracts_Vehicle\"])\n",
    "demo_atlas_df.info()"
   ]
  },
  {
   "cell_type": "markdown",
   "id": "08317a4a",
   "metadata": {},
   "source": [
    "We must then focus on features that explore the demographics of those who exprience food insecurity\n",
    "Starting by insuring that the proper metrics for the population demographics of counties"
   ]
  },
  {
   "cell_type": "code",
   "execution_count": 30,
   "id": "2990a97f",
   "metadata": {},
   "outputs": [
    {
     "name": "stdout",
     "output_type": "stream",
     "text": [
      "<class 'pandas.core.frame.DataFrame'>\n",
      "Index: 71782 entries, 0 to 72530\n",
      "Columns: 147 entries, CensusTract to TractSNAP\n",
      "dtypes: float64(126), int64(19), object(2)\n",
      "memory usage: 81.1+ MB\n"
     ]
    }
   ],
   "source": [
    "final_atlas_df = demo_atlas_df.dropna(subset=[\"Pop2010\",\"TractWhite\",\"TractBlack\",\"TractAsian\",\"TractNHOPI\",\"TractAIAN\",\"TractOMultir\",\"TractHispanic\"])\n",
    "final_atlas_df.info()"
   ]
  },
  {
   "cell_type": "markdown",
   "id": "7b00787d",
   "metadata": {},
   "source": [
    "The next step is converting each demographic's null counts for low acess from all ranges into zeros and ensuring them to be numeric. Then creating a new column for each row that totals the population tracts for all low acess ranges. And a new column that holds the tract share for each demographic"
   ]
  },
  {
   "cell_type": "code",
   "execution_count": 42,
   "id": "10b7f6c7",
   "metadata": {},
   "outputs": [
    {
     "name": "stderr",
     "output_type": "stream",
     "text": [
      "/var/folders/5s/zhk248fj34153byjj3qy77tm0000gn/T/ipykernel_72303/2575546958.py:4: SettingWithCopyWarning: \n",
      "A value is trying to be set on a copy of a slice from a DataFrame.\n",
      "Try using .loc[row_indexer,col_indexer] = value instead\n",
      "\n",
      "See the caveats in the documentation: https://pandas.pydata.org/pandas-docs/stable/user_guide/indexing.html#returning-a-view-versus-a-copy\n",
      "  final_atlas_df[cols] = (final_atlas_df[cols]\n",
      "/var/folders/5s/zhk248fj34153byjj3qy77tm0000gn/T/ipykernel_72303/2575546958.py:8: SettingWithCopyWarning: \n",
      "A value is trying to be set on a copy of a slice from a DataFrame.\n",
      "Try using .loc[row_indexer,col_indexer] = value instead\n",
      "\n",
      "See the caveats in the documentation: https://pandas.pydata.org/pandas-docs/stable/user_guide/indexing.html#returning-a-view-versus-a-copy\n",
      "  final_atlas_df[\"lahistotal\"] = final_atlas_df[[\"lahisphalf\",\"lahisp1\",\"lahisp10\",\"lahisp20\"]].sum(axis=1)\n",
      "/var/folders/5s/zhk248fj34153byjj3qy77tm0000gn/T/ipykernel_72303/2575546958.py:10: SettingWithCopyWarning: \n",
      "A value is trying to be set on a copy of a slice from a DataFrame.\n",
      "Try using .loc[row_indexer,col_indexer] = value instead\n",
      "\n",
      "See the caveats in the documentation: https://pandas.pydata.org/pandas-docs/stable/user_guide/indexing.html#returning-a-view-versus-a-copy\n",
      "  final_atlas_df[\"lahispshare\"] = final_atlas_df[\"lahistotal\"] / final_atlas_df[\"Pop2010\"]\n"
     ]
    }
   ],
   "source": [
    "cols = [\"lahisphalf\",\"lahisp1\",\"lahisp10\",\"lahisp20\"]\n",
    "\n",
    "\n",
    "final_atlas_df[cols] = (final_atlas_df[cols]\n",
    "                        .replace({\"NULL\": np.nan, \"\": np.nan})\n",
    "                        .apply(pd.to_numeric, errors=\"coerce\"))\n",
    "\n",
    "final_atlas_df[\"lahistotal\"] = final_atlas_df[[\"lahisphalf\",\"lahisp1\",\"lahisp10\",\"lahisp20\"]].sum(axis=1)\n",
    "\n",
    "final_atlas_df[\"lahispshare\"] = final_atlas_df[\"lahistotal\"] / final_atlas_df[\"Pop2010\"]\n"
   ]
  },
  {
   "cell_type": "code",
   "execution_count": 43,
   "id": "5f8151c9",
   "metadata": {},
   "outputs": [
    {
     "name": "stderr",
     "output_type": "stream",
     "text": [
      "/var/folders/5s/zhk248fj34153byjj3qy77tm0000gn/T/ipykernel_72303/756324734.py:4: SettingWithCopyWarning: \n",
      "A value is trying to be set on a copy of a slice from a DataFrame.\n",
      "Try using .loc[row_indexer,col_indexer] = value instead\n",
      "\n",
      "See the caveats in the documentation: https://pandas.pydata.org/pandas-docs/stable/user_guide/indexing.html#returning-a-view-versus-a-copy\n",
      "  final_atlas_df[cols] = (final_atlas_df[cols]\n",
      "/var/folders/5s/zhk248fj34153byjj3qy77tm0000gn/T/ipykernel_72303/756324734.py:8: SettingWithCopyWarning: \n",
      "A value is trying to be set on a copy of a slice from a DataFrame.\n",
      "Try using .loc[row_indexer,col_indexer] = value instead\n",
      "\n",
      "See the caveats in the documentation: https://pandas.pydata.org/pandas-docs/stable/user_guide/indexing.html#returning-a-view-versus-a-copy\n",
      "  final_atlas_df[\"lawhitetotal\"] = final_atlas_df[[\"lawhitehalf\",\"lawhite1\",\"lawhite10\",\"lawhite20\"]].sum(axis=1)\n",
      "/var/folders/5s/zhk248fj34153byjj3qy77tm0000gn/T/ipykernel_72303/756324734.py:10: SettingWithCopyWarning: \n",
      "A value is trying to be set on a copy of a slice from a DataFrame.\n",
      "Try using .loc[row_indexer,col_indexer] = value instead\n",
      "\n",
      "See the caveats in the documentation: https://pandas.pydata.org/pandas-docs/stable/user_guide/indexing.html#returning-a-view-versus-a-copy\n",
      "  final_atlas_df[\"lawhiteshare\"] = final_atlas_df[\"lawhitetotal\"] / final_atlas_df[\"Pop2010\"]\n"
     ]
    }
   ],
   "source": [
    "cols = [\"lawhitehalf\",\"lawhite1\",\"lawhite10\",\"lawhite20\"]\n",
    "\n",
    "\n",
    "final_atlas_df[cols] = (final_atlas_df[cols]\n",
    "                        .replace({\"NULL\": np.nan, \"\": np.nan})\n",
    "                        .apply(pd.to_numeric, errors=\"coerce\"))\n",
    "\n",
    "final_atlas_df[\"lawhitetotal\"] = final_atlas_df[[\"lawhitehalf\",\"lawhite1\",\"lawhite10\",\"lawhite20\"]].sum(axis=1)\n",
    "\n",
    "final_atlas_df[\"lawhiteshare\"] = final_atlas_df[\"lawhitetotal\"] / final_atlas_df[\"Pop2010\"]"
   ]
  },
  {
   "cell_type": "code",
   "execution_count": 44,
   "id": "a6f24c78",
   "metadata": {},
   "outputs": [
    {
     "name": "stderr",
     "output_type": "stream",
     "text": [
      "/var/folders/5s/zhk248fj34153byjj3qy77tm0000gn/T/ipykernel_72303/1248260196.py:4: SettingWithCopyWarning: \n",
      "A value is trying to be set on a copy of a slice from a DataFrame.\n",
      "Try using .loc[row_indexer,col_indexer] = value instead\n",
      "\n",
      "See the caveats in the documentation: https://pandas.pydata.org/pandas-docs/stable/user_guide/indexing.html#returning-a-view-versus-a-copy\n",
      "  final_atlas_df[cols] = (final_atlas_df[cols]\n",
      "/var/folders/5s/zhk248fj34153byjj3qy77tm0000gn/T/ipykernel_72303/1248260196.py:8: SettingWithCopyWarning: \n",
      "A value is trying to be set on a copy of a slice from a DataFrame.\n",
      "Try using .loc[row_indexer,col_indexer] = value instead\n",
      "\n",
      "See the caveats in the documentation: https://pandas.pydata.org/pandas-docs/stable/user_guide/indexing.html#returning-a-view-versus-a-copy\n",
      "  final_atlas_df[\"lablacktotal\"] = final_atlas_df[[\"lablackhalf\",\"lablack1\",\"lablack10\",\"lablack20\"]].sum(axis=1)\n",
      "/var/folders/5s/zhk248fj34153byjj3qy77tm0000gn/T/ipykernel_72303/1248260196.py:10: SettingWithCopyWarning: \n",
      "A value is trying to be set on a copy of a slice from a DataFrame.\n",
      "Try using .loc[row_indexer,col_indexer] = value instead\n",
      "\n",
      "See the caveats in the documentation: https://pandas.pydata.org/pandas-docs/stable/user_guide/indexing.html#returning-a-view-versus-a-copy\n",
      "  final_atlas_df[\"lablackshare\"] = final_atlas_df[\"lablacktotal\"] / final_atlas_df[\"Pop2010\"]\n"
     ]
    }
   ],
   "source": [
    "cols = [\"lablackhalf\",\"lablack1\",\"lablack10\",\"lablack20\"]\n",
    "\n",
    "\n",
    "final_atlas_df[cols] = (final_atlas_df[cols]\n",
    "                        .replace({\"NULL\": np.nan, \"\": np.nan})\n",
    "                        .apply(pd.to_numeric, errors=\"coerce\"))\n",
    "\n",
    "final_atlas_df[\"lablacktotal\"] = final_atlas_df[[\"lablackhalf\",\"lablack1\",\"lablack10\",\"lablack20\"]].sum(axis=1)\n",
    "\n",
    "final_atlas_df[\"lablackshare\"] = final_atlas_df[\"lablacktotal\"] / final_atlas_df[\"Pop2010\"]"
   ]
  },
  {
   "cell_type": "code",
   "execution_count": 45,
   "id": "1f16b1dc",
   "metadata": {},
   "outputs": [
    {
     "name": "stderr",
     "output_type": "stream",
     "text": [
      "/var/folders/5s/zhk248fj34153byjj3qy77tm0000gn/T/ipykernel_72303/767645692.py:4: SettingWithCopyWarning: \n",
      "A value is trying to be set on a copy of a slice from a DataFrame.\n",
      "Try using .loc[row_indexer,col_indexer] = value instead\n",
      "\n",
      "See the caveats in the documentation: https://pandas.pydata.org/pandas-docs/stable/user_guide/indexing.html#returning-a-view-versus-a-copy\n",
      "  final_atlas_df[cols] = (final_atlas_df[cols]\n",
      "/var/folders/5s/zhk248fj34153byjj3qy77tm0000gn/T/ipykernel_72303/767645692.py:8: SettingWithCopyWarning: \n",
      "A value is trying to be set on a copy of a slice from a DataFrame.\n",
      "Try using .loc[row_indexer,col_indexer] = value instead\n",
      "\n",
      "See the caveats in the documentation: https://pandas.pydata.org/pandas-docs/stable/user_guide/indexing.html#returning-a-view-versus-a-copy\n",
      "  final_atlas_df[\"laasiantotal\"] = final_atlas_df[[\"laasianhalf\",\"laasian1\",\"laasian10\",\"laasian20\"]].sum(axis=1)\n",
      "/var/folders/5s/zhk248fj34153byjj3qy77tm0000gn/T/ipykernel_72303/767645692.py:10: SettingWithCopyWarning: \n",
      "A value is trying to be set on a copy of a slice from a DataFrame.\n",
      "Try using .loc[row_indexer,col_indexer] = value instead\n",
      "\n",
      "See the caveats in the documentation: https://pandas.pydata.org/pandas-docs/stable/user_guide/indexing.html#returning-a-view-versus-a-copy\n",
      "  final_atlas_df[\"laasianshare\"] = final_atlas_df[\"laasiantotal\"] / final_atlas_df[\"Pop2010\"]\n"
     ]
    }
   ],
   "source": [
    "cols = [\"laasianhalf\",\"laasian1\",\"laasian10\",\"laasian20\"]\n",
    "\n",
    "\n",
    "final_atlas_df[cols] = (final_atlas_df[cols]\n",
    "                        .replace({\"NULL\": np.nan, \"\": np.nan})\n",
    "                        .apply(pd.to_numeric, errors=\"coerce\"))\n",
    "\n",
    "final_atlas_df[\"laasiantotal\"] = final_atlas_df[[\"laasianhalf\",\"laasian1\",\"laasian10\",\"laasian20\"]].sum(axis=1)\n",
    "\n",
    "final_atlas_df[\"laasianshare\"] = final_atlas_df[\"laasiantotal\"] / final_atlas_df[\"Pop2010\"]"
   ]
  },
  {
   "cell_type": "code",
   "execution_count": 46,
   "id": "f06e65bb",
   "metadata": {},
   "outputs": [
    {
     "name": "stderr",
     "output_type": "stream",
     "text": [
      "/var/folders/5s/zhk248fj34153byjj3qy77tm0000gn/T/ipykernel_72303/2465896974.py:4: SettingWithCopyWarning: \n",
      "A value is trying to be set on a copy of a slice from a DataFrame.\n",
      "Try using .loc[row_indexer,col_indexer] = value instead\n",
      "\n",
      "See the caveats in the documentation: https://pandas.pydata.org/pandas-docs/stable/user_guide/indexing.html#returning-a-view-versus-a-copy\n",
      "  final_atlas_df[cols] = (final_atlas_df[cols]\n",
      "/var/folders/5s/zhk248fj34153byjj3qy77tm0000gn/T/ipykernel_72303/2465896974.py:8: SettingWithCopyWarning: \n",
      "A value is trying to be set on a copy of a slice from a DataFrame.\n",
      "Try using .loc[row_indexer,col_indexer] = value instead\n",
      "\n",
      "See the caveats in the documentation: https://pandas.pydata.org/pandas-docs/stable/user_guide/indexing.html#returning-a-view-versus-a-copy\n",
      "  final_atlas_df[\"lanhopitotal\"] = final_atlas_df[[\"lanhopihalf\",\"lanhopi1\",\"lanhopi10\",\"lanhopi20\"]].sum(axis=1)\n",
      "/var/folders/5s/zhk248fj34153byjj3qy77tm0000gn/T/ipykernel_72303/2465896974.py:10: SettingWithCopyWarning: \n",
      "A value is trying to be set on a copy of a slice from a DataFrame.\n",
      "Try using .loc[row_indexer,col_indexer] = value instead\n",
      "\n",
      "See the caveats in the documentation: https://pandas.pydata.org/pandas-docs/stable/user_guide/indexing.html#returning-a-view-versus-a-copy\n",
      "  final_atlas_df[\"lanhopishare\"] = final_atlas_df[\"lanhopitotal\"] / final_atlas_df[\"Pop2010\"]\n"
     ]
    }
   ],
   "source": [
    "cols = [\"lanhopihalf\",\"lanhopi1\",\"lanhopi10\",\"lanhopi20\"]\n",
    "\n",
    "\n",
    "final_atlas_df[cols] = (final_atlas_df[cols]\n",
    "                        .replace({\"NULL\": np.nan, \"\": np.nan})\n",
    "                        .apply(pd.to_numeric, errors=\"coerce\"))\n",
    "\n",
    "final_atlas_df[\"lanhopitotal\"] = final_atlas_df[[\"lanhopihalf\",\"lanhopi1\",\"lanhopi10\",\"lanhopi20\"]].sum(axis=1)\n",
    "\n",
    "final_atlas_df[\"lanhopishare\"] = final_atlas_df[\"lanhopitotal\"] / final_atlas_df[\"Pop2010\"]"
   ]
  },
  {
   "cell_type": "code",
   "execution_count": 47,
   "id": "7ac29797",
   "metadata": {},
   "outputs": [
    {
     "name": "stderr",
     "output_type": "stream",
     "text": [
      "/var/folders/5s/zhk248fj34153byjj3qy77tm0000gn/T/ipykernel_72303/3779921125.py:4: SettingWithCopyWarning: \n",
      "A value is trying to be set on a copy of a slice from a DataFrame.\n",
      "Try using .loc[row_indexer,col_indexer] = value instead\n",
      "\n",
      "See the caveats in the documentation: https://pandas.pydata.org/pandas-docs/stable/user_guide/indexing.html#returning-a-view-versus-a-copy\n",
      "  final_atlas_df[cols] = (final_atlas_df[cols]\n",
      "/var/folders/5s/zhk248fj34153byjj3qy77tm0000gn/T/ipykernel_72303/3779921125.py:8: SettingWithCopyWarning: \n",
      "A value is trying to be set on a copy of a slice from a DataFrame.\n",
      "Try using .loc[row_indexer,col_indexer] = value instead\n",
      "\n",
      "See the caveats in the documentation: https://pandas.pydata.org/pandas-docs/stable/user_guide/indexing.html#returning-a-view-versus-a-copy\n",
      "  final_atlas_df[\"laaiantotal\"] = final_atlas_df[[\"laaianhalf\",\"laaian1\",\"laaian10\",\"laaian20\"]].sum(axis=1)\n",
      "/var/folders/5s/zhk248fj34153byjj3qy77tm0000gn/T/ipykernel_72303/3779921125.py:10: SettingWithCopyWarning: \n",
      "A value is trying to be set on a copy of a slice from a DataFrame.\n",
      "Try using .loc[row_indexer,col_indexer] = value instead\n",
      "\n",
      "See the caveats in the documentation: https://pandas.pydata.org/pandas-docs/stable/user_guide/indexing.html#returning-a-view-versus-a-copy\n",
      "  final_atlas_df[\"laaianshare\"] = final_atlas_df[\"laaiantotal\"] / final_atlas_df[\"Pop2010\"]\n"
     ]
    }
   ],
   "source": [
    "cols = [\"laaianhalf\",\"laaian1\",\"laaian10\",\"laaian20\"]\n",
    "\n",
    "\n",
    "final_atlas_df[cols] = (final_atlas_df[cols]\n",
    "                        .replace({\"NULL\": np.nan, \"\": np.nan})\n",
    "                        .apply(pd.to_numeric, errors=\"coerce\"))\n",
    "\n",
    "final_atlas_df[\"laaiantotal\"] = final_atlas_df[[\"laaianhalf\",\"laaian1\",\"laaian10\",\"laaian20\"]].sum(axis=1)\n",
    "\n",
    "final_atlas_df[\"laaianshare\"] = final_atlas_df[\"laaiantotal\"] / final_atlas_df[\"Pop2010\"]"
   ]
  },
  {
   "cell_type": "code",
   "execution_count": null,
   "id": "2acd79dd",
   "metadata": {},
   "outputs": [],
   "source": []
  },
  {
   "cell_type": "code",
   "execution_count": 50,
   "id": "01b6981b",
   "metadata": {},
   "outputs": [
    {
     "data": {
      "image/png": "[encoded data removed]",
      "text/plain": [
       "<Figure size 1000x600 with 1 Axes>"
      ]
     },
     "metadata": {},
     "output_type": "display_data"
    }
   ],
   "source": [
    "#Really easy graph showing proportion of food insecurity in urban vs rural areas\n",
    "plt.figure(figsize=(10,6))\n",
    "sns.countplot(data=cleaned_atlas_df, x='Urban', hue='LowIncomeTracts', palette='Set1')\n",
    "plt.title('Food Insecurity in Urban vs Rural Areas')\n",
    "plt.xlabel('Urban (1) vs Rural (0)')\n",
    "plt.ylabel('Count of Tracts')\n",
    "plt.legend(title='Food Insecure Tracts', labels=['No', 'Yes'])\n",
    "plt.show()"
   ]
  },
  {
   "cell_type": "markdown",
   "id": "4597cdd2",
   "metadata": {},
   "source": []
  }
 ],
 "metadata": {
  "kernelspec": {
   "display_name": "itcs-3162-project1",
   "language": "python",
   "name": "python3"
  },
  "language_info": {
   "codemirror_mode": {
    "name": "ipython",
    "version": 3
   },
   "file_extension": ".py",
   "mimetype": "text/x-python",
   "name": "python",
   "nbconvert_exporter": "python",
   "pygments_lexer": "ipython3",
   "version": "3.13.1"
  }
 },
 "nbformat": 4,
 "nbformat_minor": 5
}
