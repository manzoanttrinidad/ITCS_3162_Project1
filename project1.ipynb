{
 "cells": [
  {
   "cell_type": "markdown",
   "id": "77846dd1",
   "metadata": {},
   "source": [
    "# Introduction "
   ]
  },
  {
   "cell_type": "markdown",
   "id": "4b731a15",
   "metadata": {},
   "source": [
    "Food insecurity in America is rampant, with the USDA reporting that over 13.5% of American households faced food insecurity in 2023 (Link). A rampant increase from previous years. The effects of food insecurity are devastating. Feeding America, a non-profit organization combating food insecurity in America, reports that from households facing food insecurity, 66% had to choose between food and medical care, 57% had to choose between food and housing, and 31% had to choose between food and education (Link). These effects have also been shown to be dependent on the demographic of the population. This leads us to ask the questions \n",
    "\n",
    "* Who is affected by food insecurity? \n",
    "* Why is food insecure in an area?\n",
    "* What is the correlation between food insecurity and data points? \n"
   ]
  },
  {
   "cell_type": "markdown",
   "id": "6d2902f5",
   "metadata": {},
   "source": [
    "# The Data"
   ]
  },
  {
   "cell_type": "markdown",
   "id": "6fe21272",
   "metadata": {},
   "source": [
    "I pulled the dataset \"Food Access Research Atlas\" from the USDA(U.S Department Of Agriculture). A dataset that includes 147 columns and 72530 rows. It tracts location data including census tract, state, and county. It has distance relative to low acess to food and population demographic data. "
   ]
  },
  {
   "cell_type": "markdown",
   "id": "e5aedba5",
   "metadata": {},
   "source": [
    "###### "
   ]
  },
  {
   "cell_type": "markdown",
   "id": "28ef1bb1",
   "metadata": {},
   "source": [
    "# Pre-Processing Data"
   ]
  },
  {
   "cell_type": "markdown",
   "id": "fac39629",
   "metadata": {},
   "source": [
    "##### Imports"
   ]
  },
  {
   "cell_type": "code",
   "execution_count": 18,
   "id": "9278039b",
   "metadata": {},
   "outputs": [],
   "source": [
    "import pandas as pd\n",
    "import numpy as np\n",
    "import matplotlib.pyplot as plt \n",
    "import seaborn as sns\n",
    "from qgridnext import show_grid"
   ]
  },
  {
   "cell_type": "markdown",
   "id": "457e39ae",
   "metadata": {},
   "source": [
    "##### Importing our data set and creating a dataframe"
   ]
  },
  {
   "cell_type": "code",
   "execution_count": 19,
   "id": "a07ef680",
   "metadata": {},
   "outputs": [],
   "source": [
    "uncleaned_atlas_df = pd.read_csv(\"/Users/anthonymanzo-trinidad/Documents/ITCS-3162_Project1/Food Access Research Atlas.csv\")\n",
    "variable = pd.read_csv(\"/Users/anthonymanzo-trinidad/Documents/ITCS-3162_Project1/VariableLookup.csv\")"
   ]
  },
  {
   "cell_type": "markdown",
   "id": "71c8e097",
   "metadata": {},
   "source": [
    "##### Checking for null values and data types"
   ]
  },
  {
   "cell_type": "code",
   "execution_count": 24,
   "id": "d94041ee",
   "metadata": {},
   "outputs": [
    {
     "name": "stdout",
     "output_type": "stream",
     "text": [
      "<class 'pandas.core.frame.DataFrame'>\n",
      "RangeIndex: 72531 entries, 0 to 72530\n",
      "Columns: 147 entries, CensusTract to TractSNAP\n",
      "dtypes: float64(126), int64(19), object(2)\n",
      "memory usage: 81.3+ MB\n"
     ]
    }
   ],
   "source": [
    "uncleaned_atlas_df.isnull().sum().sort_values(ascending=False)\n",
    "uncleaned_atlas_df.info()"
   ]
  },
  {
   "cell_type": "markdown",
   "id": "0c6d0309",
   "metadata": {},
   "source": [
    "The most important features from our dataset are Censu Tract, State, Tract median family income, Tract poverty rate, Low income tract. As such we will drop any rows that do not have all of these features complete. "
   ]
  },
  {
   "cell_type": "code",
   "execution_count": null,
   "id": "56cb497b",
   "metadata": {},
   "outputs": [
    {
     "name": "stdout",
     "output_type": "stream",
     "text": [
      "<class 'pandas.core.frame.DataFrame'>\n",
      "Index: 71783 entries, 0 to 72530\n",
      "Columns: 147 entries, CensusTract to TractSNAP\n",
      "dtypes: float64(126), int64(19), object(2)\n",
      "memory usage: 81.1+ MB\n"
     ]
    }
   ],
   "source": [
    "cleaned_atlas_df = uncleaned_atlas_df.dropna(subset=['CensusTract','State','County','Urban','LowIncomeTracts','MedianFamilyIncome','PovertyRate'])\n",
    "cleaned_atlas_df.info()"
   ]
  },
  {
   "cell_type": "markdown",
   "id": "2338437d",
   "metadata": {},
   "source": [
    "We were able to drop around 1000 entries from our dataset. This is important because we will being using this cleaned dataset as the base for our further processed datasets to get greater insight on features that a greater amount of nulls."
   ]
  },
  {
   "cell_type": "markdown",
   "id": "f48da76e",
   "metadata": {},
   "source": [
    "After that we will focus on features"
   ]
  },
  {
   "cell_type": "code",
   "execution_count": 27,
   "id": "a428ff17",
   "metadata": {},
   "outputs": [
    {
     "name": "stdout",
     "output_type": "stream",
     "text": [
      "<class 'pandas.core.frame.DataFrame'>\n",
      "Index: 71782 entries, 0 to 72530\n",
      "Columns: 147 entries, CensusTract to TractSNAP\n",
      "dtypes: float64(126), int64(19), object(2)\n",
      "memory usage: 81.1+ MB\n"
     ]
    }
   ],
   "source": [
    "demo_atlas_df = cleaned_atlas_df.dropna(subset=['TractHispanic','TractAIAN','TractNHOPI','TractBlack','TractAsian','TractWhite'])\n",
    "demo_atlas_df.info()"
   ]
  },
  {
   "cell_type": "code",
   "execution_count": 41,
   "id": "6ee8e7e4",
   "metadata": {},
   "outputs": [
    {
     "data": {
      "text/plain": [
       "lanhopi20           71025\n",
       "lalowi20            71025\n",
       "lanhopi20share      71025\n",
       "laaian20            71025\n",
       "laaian20share       71025\n",
       "                    ...  \n",
       "laaianhalf           4568\n",
       "lanhopihalfshare     4568\n",
       "lanhopihalf          4568\n",
       "lahunvhalfshare      4562\n",
       "lasnaphalfshare      4562\n",
       "Length: 110, dtype: int64"
      ]
     },
     "execution_count": 41,
     "metadata": {},
     "output_type": "execute_result"
    }
   ],
   "source": [
    "#checking my columns with the most null values \n",
    "uncleaned_atlas_df.isnull().sum().sort_values(ascending=False).head(110)"
   ]
  },
  {
   "cell_type": "code",
   "execution_count": 43,
   "id": "01b6981b",
   "metadata": {},
   "outputs": [
    {
     "data": {
      "image/png": "[encoded data removed]",
      "text/plain": [
       "<Figure size 1000x600 with 1 Axes>"
      ]
     },
     "metadata": {},
     "output_type": "display_data"
    }
   ],
   "source": [
    "#Really easy graph showing proportion of food insecurity in urban vs rural areas\n",
    "plt.figure(figsize=(10,6))\n",
    "sns.countplot(data=cleaned_atlas_df, x='Urban', hue='LowIncomeTracts', palette='Set2')\n",
    "plt.title('Food Insecurity in Urban vs Rural Areas')\n",
    "plt.xlabel('Urban (1) vs Rural (0)')\n",
    "plt.ylabel('Count of Tracts')\n",
    "plt.legend(title='Food Insecure Tracts', labels=['No', 'Yes'])\n",
    "plt.show()"
   ]
  }
 ],
 "metadata": {
  "kernelspec": {
   "display_name": "itcs-3162-project1",
   "language": "python",
   "name": "python3"
  },
  "language_info": {
   "codemirror_mode": {
    "name": "ipython",
    "version": 3
   },
   "file_extension": ".py",
   "mimetype": "text/x-python",
   "name": "python",
   "nbconvert_exporter": "python",
   "pygments_lexer": "ipython3",
   "version": "3.13.1"
  }
 },
 "nbformat": 4,
 "nbformat_minor": 5
}
